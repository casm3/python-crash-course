{
 "cells": [
  {
   "cell_type": "code",
   "execution_count": 4,
   "id": "3f33b1a9",
   "metadata": {},
   "outputs": [
    {
     "name": "stdout",
     "output_type": "stream",
     "text": [
      "4 cheeses\n",
      "Portuguese\n",
      "Mozzarella\n",
      "I like 4 cheeses pizza\n",
      "I like Portuguese pizza\n",
      "I like Mozzarella pizza\n",
      "\n",
      "    Pizzas are too good to be real,\n",
      "    however Coxinha is better than pizza,\n",
      "    please come to Brazil and eat Coxinhas.\n",
      "    \n",
      "I really love Coxinha!\n"
     ]
    }
   ],
   "source": [
    "# 4.1 Pizzas: Think of at least three kinds of your favorite pizza. Store these pizza names in a list, and then use a \n",
    "# for loop to print the name of each pizza.\n",
    "pizzas = [\"4 cheeses\", \"Portuguese\", \"Mozzarella\"]\n",
    "for pizza in pizzas:\n",
    "    print(pizza)\n",
    "    \n",
    "# Modify your for loop to print a sentence using the name of the pizza instead of printing just the name of the pizza.\n",
    "# For each pizza you should have one line of output containing a simple statement like I like pepperoni pizza.\n",
    "for pizza in pizzas:\n",
    "    print(f\"I like {pizza} pizza\")\n",
    "    \n",
    "# Add a line at the end of your program, outside the for loop, that states how much you like pizza. The output should\n",
    "# consist of three or more lines about the pizzas you like and then an additional sentence, such as I really love\n",
    "# pizza\n",
    "print(\n",
    "    \"\"\"\n",
    "    Pizzas are too good to be real,\n",
    "    however Coxinha is better than pizza,\n",
    "    please come to Brazil and eat Coxinhas.\n",
    "    \"\"\"\n",
    ")\n",
    "print(\"I really love Coxinha!\")"
   ]
  },
  {
   "cell_type": "code",
   "execution_count": 5,
   "id": "c6c44a40",
   "metadata": {},
   "outputs": [
    {
     "name": "stdout",
     "output_type": "stream",
     "text": [
      "cat\n",
      "dog\n",
      "bat\n",
      "A cat would make a great pet.\n",
      "A dog would make a great pet.\n",
      "A bat would make a great pet.\n",
      "\n",
      "    Here we have a list of mammals.\n",
      "    All these animals would make a great pet (except the bats).\n",
      "    \n"
     ]
    }
   ],
   "source": [
    "# 4.2 Animals: Think of at least three different animals that have a common characteristic. Store the name of these\n",
    "# animals in a list, and then use a for loop to print out the name of each animal.\n",
    "mammals = [\"cat\", \"dog\", \"bat\"]\n",
    "for mammal in mammals:\n",
    "    print(mammal)\n",
    "    \n",
    "# Modify your program to print a statement about each animal, such as A dog would make a great pet.\n",
    "for mammal in mammals:\n",
    "    print(f\"A {mammal} would make a great pet.\")\n",
    "    \n",
    "# Add a line at the end of your program stating what these animals have in common. You could print a sentence such as\n",
    "# Any of these animals would make a great pet.\n",
    "print(\n",
    "    \"\"\"\n",
    "    Here we have a list of mammals.\n",
    "    All these animals would make a great pet (except the bats).\n",
    "    \"\"\"\n",
    ")"
   ]
  },
  {
   "cell_type": "code",
   "execution_count": 7,
   "id": "0529d9dc",
   "metadata": {
    "scrolled": true
   },
   "outputs": [
    {
     "name": "stdout",
     "output_type": "stream",
     "text": [
      "1\n",
      "2\n",
      "3\n",
      "4\n",
      "5\n",
      "6\n",
      "7\n",
      "8\n",
      "9\n",
      "10\n",
      "11\n",
      "12\n",
      "13\n",
      "14\n",
      "15\n",
      "16\n",
      "17\n",
      "18\n",
      "19\n",
      "20\n"
     ]
    }
   ],
   "source": [
    "# 4.3 Couting to tweenty: Use a for loop to print the numbers from 1 to 20, inclusive.\n",
    "for number in range(1, 21):\n",
    "    print(number)"
   ]
  },
  {
   "cell_type": "code",
   "execution_count": 1,
   "id": "74b152be",
   "metadata": {},
   "outputs": [
    {
     "name": "stdout",
     "output_type": "stream",
     "text": [
      "1\n",
      "2\n",
      "3\n",
      "4\n",
      "5\n",
      "6\n",
      "7\n",
      "8\n",
      "9\n",
      "10\n"
     ]
    }
   ],
   "source": [
    "# 4.4 One million: Make a list of the numbers from one to one million, and the use a for loop to print the numbers.\n",
    "million_numbers_list = [number for number in range(1, 1_000_001)]\n",
    "for number in million_numbers_list[:10]: # Sliced list, please remove the brackets to print out all numbers\n",
    "    print(number)"
   ]
  },
  {
   "cell_type": "code",
   "execution_count": 2,
   "id": "8a22e486",
   "metadata": {},
   "outputs": [
    {
     "name": "stdout",
     "output_type": "stream",
     "text": [
      "1\n",
      "1000000\n",
      "500000500000\n"
     ]
    }
   ],
   "source": [
    "# 4.5 Summing a Million: Make a list of the numbers from one to one million, and then use min() and max() to make sure\n",
    "# your list actually starts at one and ends at one million. Also, use the sum() functionto see how quickly Python can\n",
    "# add a million numbers.\n",
    "million_numbers_list = [number for number in range(1, 1_000_001)]\n",
    "print(min(million_numbers_list))\n",
    "print(max(million_numbers_list))\n",
    "print(sum(million_numbers_list))"
   ]
  },
  {
   "cell_type": "code",
   "execution_count": 3,
   "id": "9d7f89c3",
   "metadata": {},
   "outputs": [
    {
     "name": "stdout",
     "output_type": "stream",
     "text": [
      "1\n",
      "3\n",
      "5\n",
      "7\n",
      "9\n",
      "11\n",
      "13\n",
      "15\n",
      "17\n",
      "19\n"
     ]
    }
   ],
   "source": [
    "# 4.6 Odd numbers: Use the third argument of the range() function to make a list of the odd numbers from 1 to 20. Use\n",
    "# a for loop to print each line.\n",
    "odd_numbers_list = [number for number in range(1, 21, 2)]\n",
    "for number in odd_numbers_list:\n",
    "    print(number)"
   ]
  },
  {
   "cell_type": "code",
   "execution_count": 4,
   "id": "8256b7fc",
   "metadata": {},
   "outputs": [
    {
     "name": "stdout",
     "output_type": "stream",
     "text": [
      "3\n",
      "6\n",
      "9\n",
      "12\n",
      "15\n",
      "18\n",
      "21\n",
      "24\n",
      "27\n",
      "30\n"
     ]
    }
   ],
   "source": [
    "# 4.7 Threes: Make a list of the multiples of 3 from 3 to 30. Use a for loop to print the numbers in your list.\n",
    "threes = [number for number in range(3, 31, 3)]\n",
    "for multiple_of_three in threes:\n",
    "    print(multiple_of_three)"
   ]
  },
  {
   "cell_type": "code",
   "execution_count": 6,
   "id": "4e2542ce",
   "metadata": {},
   "outputs": [
    {
     "name": "stdout",
     "output_type": "stream",
     "text": [
      "1\n",
      "8\n",
      "27\n",
      "64\n",
      "125\n",
      "216\n",
      "343\n",
      "512\n",
      "729\n",
      "1000\n"
     ]
    }
   ],
   "source": [
    "# 4.8 Cubes: A number raised to the third power is called a cube. For example, the cube of 2 is written as 2**3\n",
    "# in Python. Make a list of the first 10 cubes (that is, the cube of each integer from 1 through 10), and use a for\n",
    "# loop to print out the value of each cube.\n",
    "list_of_cubes = []\n",
    "for number in range(1, 11):\n",
    "    list_of_cubes.append(number**3)\n",
    "    print(number**3)\n",
    "\n",
    "# 4.9 Cube Comprehension: Use a list comprehension to generate a list of the first 10 cubes.\n",
    "list_of_cubes = [number**3 for number in range(1, 11)]"
   ]
  },
  {
   "cell_type": "code",
   "execution_count": 15,
   "id": "c72d192a",
   "metadata": {},
   "outputs": [
    {
     "name": "stdout",
     "output_type": "stream",
     "text": [
      "The first three cubes are: [1, 8, 27]\n",
      "The three items from the middle of cubes are:[125, 216, 343]\n"
     ]
    }
   ],
   "source": [
    "# 4.10 Slices: Using one of the programs you wrote in this chapter, add several lines to the end of the program\n",
    "# that to the following:\n",
    "\n",
    "# Print the first three items in the list are: Then use a slice to print the first three items from that program's\n",
    "# list\n",
    "list_of_cubes = [number**3 for number in range(1, 11)]\n",
    "print(f\"The first three cubes are: {list_of_cubes[:3]}\")\n",
    "\n",
    "# Print the message Three items from the middle of the list are: Use a slice to print three items from the middle of\n",
    "# the list.\n",
    "print(\n",
    "f\"The three items from the middle of cubes are:{list_of_cubes[(len(list_of_cubes)//2)-1:(len(list_of_cubes)//2)+2]}\"\n",
    ")\n"
   ]
  },
  {
   "cell_type": "code",
   "execution_count": 17,
   "id": "fb307eaa",
   "metadata": {},
   "outputs": [
    {
     "name": "stdout",
     "output_type": "stream",
     "text": [
      "My favorite pizzas are: \n",
      "4 cheeses\n",
      "Portuguese\n",
      "Mozzarella\n",
      "pepperoni\n",
      "My Friend's favorite pizzas are: \n",
      "4 cheeses\n",
      "Portuguese\n",
      "Mozzarella\n",
      "marguerita\n"
     ]
    }
   ],
   "source": [
    "# 4.11 My Pizzas, Your Pizzas: Start with your program from Exercise 4.1. Make a copy of the list of pizzas and call\n",
    "# it friend_pizzas. Then do the following:\n",
    "pizzas = [\"4 cheeses\", \"Portuguese\", \"Mozzarella\"]\n",
    "friend_pizzas = pizzas[:]\n",
    "\n",
    "# Add a new pizza to the original list.\n",
    "pizzas.append(\"pepperoni\")\n",
    "\n",
    "# Add a different pizza to the list friend_pizzas\n",
    "friend_pizzas.append(\"marguerita\")\n",
    "\n",
    "# Prove that you have two separate lists. Print the message My favorite pizzas are:, and then use a for loop to print\n",
    "# the first list. Print the message My Friend's favorite pizzas are:, and then use a for loop to print the second list\n",
    "# Make sure each new pizza is stored in the appropriate list.\n",
    "\n",
    "# 4.12 More Loops: All versions of foods.py in this section avoided using for loops when printing to save space.\n",
    "# Choose a version of foods.py, and write two for loops to print each list of foods.\n",
    "\n",
    "print(\"My favorite pizzas are: \")\n",
    "for pizza in pizzas:\n",
    "    print(pizza)\n",
    "    \n",
    "print(\"My Friend's favorite pizzas are: \")\n",
    "for pizza in friend_pizzas:\n",
    "    print(pizza)"
   ]
  },
  {
   "cell_type": "code",
   "execution_count": 19,
   "id": "675f6298",
   "metadata": {},
   "outputs": [
    {
     "name": "stdout",
     "output_type": "stream",
     "text": [
      "fried chicken\n",
      "french fries\n",
      "hamburger\n",
      "rice and beans\n",
      "salad\n",
      "fried chicken\n",
      "french fries\n",
      "steak\n",
      "rice and beans\n",
      "sweet potato\n"
     ]
    }
   ],
   "source": [
    "# 4.13 Buffet: A buffet-style restaurant offers only five basic foods. Think of five simple foods, and store them \n",
    "# in a tuple.\n",
    "menu_tuple = (\n",
    "    \"fried chicken\",\n",
    "    \"french fries\",\n",
    "    \"hamburger\",\n",
    "    \"rice and beans\",\n",
    "    \"salad\"\n",
    ")\n",
    "\n",
    "# Use a for loop to print each food the restaurant offers.\n",
    "for plate in menu_tuple:\n",
    "    print(plate)\n",
    "\n",
    "# Try to modify one of the items, and make sure that Python rejects the change.\n",
    "# menu_tuple[0] = \"steak\"\n",
    "\n",
    "#The restaurant changes its menu, replacing two of the items with different foods. Add a line that rewrites the \n",
    "# tuple, and then use a for loop to print each of the items on the revised menu.\n",
    "menu_tuple = (\n",
    "    \"fried chicken\",\n",
    "    \"french fries\",\n",
    "    \"steak\",\n",
    "    \"rice and beans\",\n",
    "    \"sweet potato\"\n",
    ")\n",
    "\n",
    "for plate in menu_tuple:\n",
    "    print(plate)"
   ]
  },
  {
   "cell_type": "code",
   "execution_count": null,
   "id": "1a828404",
   "metadata": {},
   "outputs": [],
   "source": []
  }
 ],
 "metadata": {
  "kernelspec": {
   "display_name": "Python 3 (ipykernel)",
   "language": "python",
   "name": "python3"
  },
  "language_info": {
   "codemirror_mode": {
    "name": "ipython",
    "version": 3
   },
   "file_extension": ".py",
   "mimetype": "text/x-python",
   "name": "python",
   "nbconvert_exporter": "python",
   "pygments_lexer": "ipython3",
   "version": "3.9.12"
  }
 },
 "nbformat": 4,
 "nbformat_minor": 5
}
