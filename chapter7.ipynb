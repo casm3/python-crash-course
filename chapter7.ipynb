{
 "cells": [
  {
   "cell_type": "code",
   "execution_count": 1,
   "id": "ead02309",
   "metadata": {},
   "outputs": [
    {
     "name": "stdout",
     "output_type": "stream",
     "text": [
      "What car would you like to rent? Subaru\n",
      "Let me see if I can find you a Subaru\n"
     ]
    }
   ],
   "source": [
    "# 7.1 Rental Car: Write a program that asks the user what kind of rental car they would like. Print a message\n",
    "# about that car, such as \"Let me see if I can find you a Subaru\"\n",
    "\n",
    "rental_car = input(\"What car would you like to rent? \")\n",
    "print(f\"Let me see if I can find you a {rental_car}\")"
   ]
  },
  {
   "cell_type": "code",
   "execution_count": 4,
   "id": "c7cd7ac4",
   "metadata": {},
   "outputs": [
    {
     "name": "stdout",
     "output_type": "stream",
     "text": [
      "How many people are your dinner group? 9\n",
      "You'll have to wait for a bigger table\n"
     ]
    }
   ],
   "source": [
    "# 7.2 Restaurant Seating: Write a program that asks the user how many people are in their dinner group. If the\n",
    "# answer is more than eight, print a message saying they'will have to wait for a table. Otherwise, report that\n",
    "# their table is ready.\n",
    "\n",
    "group_size = input(\"How many people are your dinner group? \")\n",
    "print(\"Your table is ready\" if int(group_size) <= 8 else \"You'll have to wait for a bigger table\")"
   ]
  },
  {
   "cell_type": "code",
   "execution_count": 5,
   "id": "dcf6ebd7",
   "metadata": {},
   "outputs": [
    {
     "name": "stdout",
     "output_type": "stream",
     "text": [
      "Enter a number: 11\n",
      "The number is not a multiple of Ten.\n"
     ]
    }
   ],
   "source": [
    "# 7.3 Multiples of Ten: Ask the user for a number, and then report whether the number is a multiple of 10 or not.\n",
    "\n",
    "number = input(\"Enter a number: \")\n",
    "print(\"The number is a multiple of Ten!\" if int(number)%10 == 0 else \"The number is not a multiple of Ten.\")"
   ]
  },
  {
   "cell_type": "code",
   "execution_count": 7,
   "id": "410a3ea4",
   "metadata": {},
   "outputs": [
    {
     "name": "stdout",
     "output_type": "stream",
     "text": [
      "What topping do you like to add to your pizza? ovo\n",
      "I'll add ovo to your pizza\n",
      "What topping do you like to add to your pizza? queijo\n",
      "I'll add queijo to your pizza\n",
      "What topping do you like to add to your pizza? quit\n"
     ]
    }
   ],
   "source": [
    "# 7.4 Pizza Toppings: Write a loop that prompts the user to enter a series of pizza toppings until they enter a\n",
    "# 'quit' value. As they enter each topping, print a message saying you'll add that topping to their pizza.\n",
    "\n",
    "while True:\n",
    "    topping = input(\"What topping do you like to add to your pizza? \")\n",
    "    if topping == 'quit':\n",
    "        break \n",
    "    print(f\"I'll add {topping} to your pizza\")"
   ]
  },
  {
   "cell_type": "code",
   "execution_count": 9,
   "id": "5ac676de",
   "metadata": {},
   "outputs": [
    {
     "name": "stdout",
     "output_type": "stream",
     "text": [
      "Enter with the age or press 0 to quit13\n",
      "The ticket is $15\n",
      "Enter with the age or press 0 to quit12\n",
      "The ticket is $10\n",
      "Enter with the age or press 0 to quit3\n",
      "The ticket is free\n",
      "Enter with the age or press 0 to quit0\n"
     ]
    }
   ],
   "source": [
    "# 7.5 Movie Tickets: A movie theater charges different ticket prices depending on a person's age of 3, the ticket is\n",
    "# free; if they are between 3 and 12, the ticket is $10; and if they are over age 12, the ticket is $15. Write a loop\n",
    "# in which you ask users their age, and then tell them the cost of their movie ticket.\n",
    "\n",
    "while True:\n",
    "    age = int(input(\"Enter with the age or press 0 to quit: \"))\n",
    "    if age == 0:\n",
    "        break\n",
    "    if age <= 3:\n",
    "        print(\"The ticket is free\")\n",
    "    elif 3 < age <= 12:\n",
    "        print(\"The ticket is $10\")\n",
    "    else:\n",
    "        print(\"The ticket is $15\")"
   ]
  },
  {
   "cell_type": "code",
   "execution_count": 12,
   "id": "c758feab",
   "metadata": {},
   "outputs": [
    {
     "name": "stdout",
     "output_type": "stream",
     "text": [
      "What topping do you like to add to your pizza? a\n",
      "I'll add a to your pizza\n",
      "What topping do you like to add to your pizza? quit\n",
      "What topping do you like to add to your pizza? a\n",
      "I'll add a to your pizza\n",
      "What topping do you like to add to your pizza? a\n",
      "I'll add a to your pizza\n",
      "What topping do you like to add to your pizza? a\n",
      "I'll add a to your pizza\n",
      "What topping do you like to add to your pizza? a\n",
      "I'll add a to your pizza\n",
      "What topping do you like to add to your pizza? quit\n",
      "What topping do you like to add to your pizza? quit\n"
     ]
    }
   ],
   "source": [
    "# 7.6 Three Exits: Write different versions of either Exercise 7.4 or Exercise 7.5 that do the following at least once\n",
    "# Use a conditional test in the while statement to stop the loop.\n",
    "topping = input(\"What topping do you like to add to your pizza? \")\n",
    "while topping != 'quit':\n",
    "    print(f\"I'll add {topping} to your pizza\")\n",
    "    topping = input(\"What topping do you like to add to your pizza? \")\n",
    "    \n",
    "# Use an active variable to control how long the loop runs.\n",
    "topping = input(\"What topping do you like to add to your pizza? \")\n",
    "toppings = 0\n",
    "while toppings < 4:\n",
    "    toppings += 1\n",
    "    print(f\"I'll add {topping} to your pizza\")\n",
    "    topping = input(\"What topping do you like to add to your pizza? \")\n",
    "\n",
    "# Use a break statement to exit the loop when the user enters a 'quit' value.\n",
    "while True:\n",
    "    topping = input(\"What topping do you like to add to your pizza? \")\n",
    "    if topping == 'quit':\n",
    "        break \n",
    "    print(f\"I'll add {topping} to your pizza\")"
   ]
  },
  {
   "cell_type": "code",
   "execution_count": 15,
   "id": "ac42204c",
   "metadata": {},
   "outputs": [],
   "source": [
    "# 7.7 Infinity: Write a loop that never ends, and run it. \n",
    "# while True:\n",
    "#     print(\"don't run this code.\")"
   ]
  },
  {
   "cell_type": "code",
   "execution_count": 14,
   "id": "84ec4c42",
   "metadata": {},
   "outputs": [
    {
     "name": "stdout",
     "output_type": "stream",
     "text": [
      "I made your tuna cheeseburger\n",
      "I made your tuna hamburger\n",
      "I made your tuna cheese-egg-burger\n",
      "All these sandwiches had been made. \n",
      "\tcheeseburger\n",
      "\thamburger\n",
      "\tcheese-egg-burger\n"
     ]
    }
   ],
   "source": [
    "# 7.8 Deli: Make a list called sandwich_orders and fill it with the names of various sandwiches. Then make an empty\n",
    "# list called finished_sandwiches. Loop through the list of sandwich orders and print a message for each order, such\n",
    "# as I made your tuna sandwich. As each sandwich is made, move it to the list of finished sandwiches. After all the\n",
    "# sandwiches have been made, print a message listing each sandwich that was made.\n",
    "sandwich_orders = ['cheeseburger', 'hamburger', 'cheese-egg-burger']\n",
    "finished_sandwiches = []\n",
    "for sandwich in sandwich_orders:\n",
    "    print(f\"I made your {sandwich}\")\n",
    "    finished_sandwiches.append(sandwich)\n",
    "\n",
    "print(\"All these sandwiches had been made: \")\n",
    "for sandwich in finished_sandwiches:\n",
    "    print(f\"\\t{sandwich}\")"
   ]
  },
  {
   "cell_type": "code",
   "execution_count": 23,
   "id": "207c2076",
   "metadata": {},
   "outputs": [
    {
     "name": "stdout",
     "output_type": "stream",
     "text": [
      "the deli has run out of pastrami\n",
      "I made your cheeseburger\n",
      "I made your hamburger\n",
      "I made your cheese-egg-burger\n",
      "All these sandwiches had been made: \n",
      "\tcheeseburger\n",
      "\thamburger\n",
      "\tcheese-egg-burger\n"
     ]
    }
   ],
   "source": [
    "# 7.9 No Pastrami: Using the list sandwich_orders from Exercise 7.8, make sure the sandwich 'pastrami' appears\n",
    "# at least three times. Add code near the beginning of your program to print a message saying the deli has run out\n",
    "# of pastrami, and then use a while loop to remove all ocurrences of 'pastrami' from sandwich_orders. Make sure no\n",
    "# pastrami sandwiches end up in finished_sandwiches.\n",
    "sandwich_orders = ['cheeseburger', 'pastrami', 'hamburger', 'pastrami', 'cheese-egg-burger', 'pastrami']\n",
    "finished_sandwiches = []\n",
    "print(\"the deli has run out of pastrami\")\n",
    "\n",
    "for sandwich in sandwich_orders:\n",
    "    if sandwich == 'pastrami':\n",
    "        sandwich_orders.remove(sandwich)\n",
    "\n",
    "for sandwich in sandwich_orders:\n",
    "    print(f\"I made your {sandwich}\")\n",
    "    finished_sandwiches.append(sandwich)\n",
    "\n",
    "print(\"All these sandwiches had been made: \")\n",
    "for sandwich in finished_sandwiches:\n",
    "    print(f\"\\t{sandwich}\")"
   ]
  },
  {
   "cell_type": "code",
   "execution_count": 25,
   "id": "6a8e4bae",
   "metadata": {},
   "outputs": [
    {
     "name": "stdout",
     "output_type": "stream",
     "text": [
      "If you could visit one place in the world, where would you go?a\n",
      "If you could visit one place in the world, where would you go?a\n",
      "If you could visit one place in the world, where would you go?a\n",
      "If you could visit one place in the world, where would you go?quit\n",
      "These are the polled places: \n",
      "\ta\n",
      "\ta\n",
      "\ta\n"
     ]
    }
   ],
   "source": [
    "# 7.10 Dream Vacation: Write a program that polls users about their dream vacation. Write a prompt similar to If \n",
    "# you could visit one place in the world, where would you go? Include a block of code that prints the results of \n",
    "# the poll.\n",
    "dream_places_for_vacation = []\n",
    "\n",
    "while True:\n",
    "    place = input(\"If you could visit one place in the world, where would you go?\")\n",
    "    if place == 'quit':\n",
    "        break\n",
    "    dream_places_for_vacation.append(place)\n",
    "\n",
    "    \n",
    "print(\"These are the polled places: \")\n",
    "for place in dream_places_for_vacation:\n",
    "    print(f\"\\t{place}\")"
   ]
  },
  {
   "cell_type": "code",
   "execution_count": null,
   "id": "d1471a44",
   "metadata": {},
   "outputs": [],
   "source": []
  }
 ],
 "metadata": {
  "kernelspec": {
   "display_name": "Python 3 (ipykernel)",
   "language": "python",
   "name": "python3"
  },
  "language_info": {
   "codemirror_mode": {
    "name": "ipython",
    "version": 3
   },
   "file_extension": ".py",
   "mimetype": "text/x-python",
   "name": "python",
   "nbconvert_exporter": "python",
   "pygments_lexer": "ipython3",
   "version": "3.9.12"
  }
 },
 "nbformat": 4,
 "nbformat_minor": 5
}
