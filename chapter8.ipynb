{
 "cells": [
  {
   "cell_type": "code",
   "execution_count": 1,
   "id": "34f55d4a",
   "metadata": {},
   "outputs": [
    {
     "name": "stdout",
     "output_type": "stream",
     "text": [
      "I'm learning about Python's functions.\n"
     ]
    }
   ],
   "source": [
    "# 8.1 Message: Write a function called display_message() that prints one sentence telling everyone what you are \n",
    "# learning about in this chapter. Call the function and make sure the message displays correctly.\n",
    "def display_message():\n",
    "    print(\"I'm learning about Python's functions.\")\n",
    "    \n",
    "display_message()"
   ]
  },
  {
   "cell_type": "code",
   "execution_count": 2,
   "id": "eda3c143",
   "metadata": {},
   "outputs": [
    {
     "name": "stdout",
     "output_type": "stream",
     "text": [
      "One of my favorite books is Berserk.\n"
     ]
    }
   ],
   "source": [
    "# 8.2 Favorite Book: Write a function called favorite_book() that accepts one parameter, title. The function should\n",
    "# print a message, such as One of my favorite books is Alice in the Wonderland. Call the function, making sure to \n",
    "# include a book title as an argument in the function call.\n",
    "def favorite_book(title):\n",
    "    print(f\"One of my favorite books is {title}.\")\n",
    "    \n",
    "favorite_book(\"Berserk\")"
   ]
  },
  {
   "cell_type": "code",
   "execution_count": 3,
   "id": "ab03e53f",
   "metadata": {},
   "outputs": [
    {
     "name": "stdout",
     "output_type": "stream",
     "text": [
      "The shirt size is XL,While the text that should be printed is: Java is better than Python..\n",
      "The shirt size is XL,While the text that should be printed is: Java is better than Python..\n"
     ]
    }
   ],
   "source": [
    "# 8.3 T-Shirt: Write a fcuntion called make_shirt() that accepts a size and the text of a message that should be \n",
    "# printed in the shirt. The function should print a message summarizing the size of the shirt and the message printed\n",
    "# on it.\n",
    "def make_shirt(size, text):\n",
    "    print(\n",
    "          f\"The shirt size is {size}, \"\n",
    "          f\"While the text that should be printed is: {text}.\"\n",
    "    )\n",
    "\n",
    "# Call the function once using positional arguments to make a shirt. Call the function a second time using keyword\n",
    "# arguments.\n",
    "\n",
    "make_shirt(\"XL\", \"Java is better than Python.\")\n",
    "make_shirt(text=\"Java is better than Python.\", size=\"XL\")"
   ]
  },
  {
   "cell_type": "code",
   "execution_count": 5,
   "id": "94aeb98d",
   "metadata": {},
   "outputs": [
    {
     "name": "stdout",
     "output_type": "stream",
     "text": [
      "The shirt size is XXL, While the text that should be printed is: I Love Python.\n",
      "The shirt size is XL, While the text that should be printed is: Java is better than Python.\n"
     ]
    }
   ],
   "source": [
    "# 8.4 Large Shirts: Modify the make_shirt() function so that shirts are large by default with a message that reads\n",
    "# I love Python. Make a large shirt and a medium shirt with the default message, and a shirt of any size with a \n",
    "# different message.\n",
    "def make_shirt(size=\"XXL\", text=\"I Love Python\"):\n",
    "    print(\n",
    "          f\"The shirt size is {size}, \"\n",
    "          f\"While the text that should be printed is: {text}.\"\n",
    "    )\n",
    "    \n",
    "make_shirt()\n",
    "make_shirt(\"XL\", \"Java is better than Python\")"
   ]
  },
  {
   "cell_type": "code",
   "execution_count": 6,
   "id": "42ddbcee",
   "metadata": {},
   "outputs": [
    {
     "name": "stdout",
     "output_type": "stream",
     "text": [
      "Dublin is in Ireland\n",
      "Sao Paulo is in Ireland\n",
      "Cork is in Ireland\n"
     ]
    }
   ],
   "source": [
    "# 8.5 Cities: Write a function called describe_city() that accepts the name of a city and its country. The function\n",
    "# should print a simple sentence, such as Reykjavik is in Iceland. Give the parameter for the country a default value.\n",
    "# Call your function for three different cities, at least one of which is not in the default country.\n",
    "def describe_city(city_name, country=\"Ireland\"):\n",
    "    print(f\"{city_name} is in {country}\")\n",
    "    \n",
    "describe_city(\"Dublin\")\n",
    "describe_city(\"Sao Paulo\")\n",
    "describe_city(\"Cork\")"
   ]
  },
  {
   "cell_type": "code",
   "execution_count": 7,
   "id": "bcf1479a",
   "metadata": {},
   "outputs": [
    {
     "name": "stdout",
     "output_type": "stream",
     "text": [
      "Vladvostok, Russia\n",
      "New York, USA\n",
      "Buenos Aires, Argentina\n"
     ]
    }
   ],
   "source": [
    "# 8.6 City Names: Write a function called city_country() that takes in the name of a city and its country. \n",
    "# The function should return a string formatted like this:\n",
    "# \"Santiago, Chile\"\n",
    "\n",
    "def city_country(city_name, country):\n",
    "    return f\"{city_name}, {country}\"\n",
    "\n",
    "# Call your function with at least three city-country pairs, and print the values that are returned.\n",
    "print(city_country(\"Vladvostok\", \"Russia\"))\n",
    "print(city_country(\"New York\", \"USA\"))\n",
    "print(city_country(\"Buenos Aires\", \"Argentina\"))"
   ]
  },
  {
   "cell_type": "code",
   "execution_count": 9,
   "id": "f21ffae8",
   "metadata": {},
   "outputs": [
    {
     "name": "stdout",
     "output_type": "stream",
     "text": [
      "{'artist_name': 'Metallica', 'title': 'One'}\n",
      "{'artist_name': 'Iron Maden', 'title': 'Fear of the Dark'}\n",
      "{'artist_name': 'Led Zeppelin', 'title': 'Led Zeppelin 4', 'number_of_songs': 10}\n"
     ]
    }
   ],
   "source": [
    "# 8.7 Album: Write a function called make_album() that builds a dictionary describing a music album. The function\n",
    "# should take in an artist name and an album title, and it should return a dictionary containing these two pieces\n",
    "# of information. Use the function to make three dictionaries representing different albums. Print each return value\n",
    "# to show that the dictionaries are storing the album information correctly.\n",
    "def make_album(artist_name, title, number_of_songs=None):\n",
    "    album = {\n",
    "        \"artist_name\": artist_name,\n",
    "        \"title\": title\n",
    "    }\n",
    "    if number_of_songs:\n",
    "        album[\"number_of_songs\"] = number_of_songs\n",
    "    return album\n",
    "\n",
    "print(make_album(\"Metallica\", \"One\"))\n",
    "print(make_album(\"Iron Maden\", \"Fear of the Dark\"))\n",
    "print(make_album(\"Led Zeppelin\", \"Led Zeppelin 4\", 10))\n",
    "\n",
    "# Use None to add an optional parameter to make_album() that allows you to store the number of songs on an album. If \n",
    "# the calling line includes a value for the number of songs, add that value to the album's dictionary. Make at least\n",
    "# one new function call that includes the number of songs on an album."
   ]
  },
  {
   "cell_type": "code",
   "execution_count": 10,
   "id": "56e36b40",
   "metadata": {},
   "outputs": [
    {
     "name": "stdout",
     "output_type": "stream",
     "text": [
      "Enter the artist name: Metallica\n",
      "Enter the album title: One\n",
      "{'artist_name': 'Metallica', 'title': 'One'}\n",
      "Enter the artist name: quit\n",
      "Enter the album title: \n"
     ]
    }
   ],
   "source": [
    "# 8.8 User Albums: Start with your program from Exercise 8.7. Write a while loop that allows users to enter an\n",
    "# album's artist and title. Once you have that information, call make_album() with the user's input and print the \n",
    "# dictionary that's created. Be sure to include a 'quit' value in the while loop.\n",
    "while True:\n",
    "    artist_name = input(\"Enter the artist name: \")\n",
    "    if artist_name == 'quit':\n",
    "        break\n",
    "    album_title = input(\"Enter the album title: \")\n",
    "    if album_title == 'quit':\n",
    "        break\n",
    "    print(make_album(artist_name, album_title))"
   ]
  },
  {
   "cell_type": "code",
   "execution_count": 11,
   "id": "45e6ca18",
   "metadata": {},
   "outputs": [
    {
     "name": "stdout",
     "output_type": "stream",
     "text": [
      "hello\n",
      "world\n",
      "bye\n"
     ]
    }
   ],
   "source": [
    "# 8.9 Messages: Make a list containing a series of short text messages. Pass the list to a function called \n",
    "# show_messages(), which prints each message.\n",
    "def show_messages(messages):\n",
    "    for message in messages:\n",
    "        print(message)\n",
    "\n",
    "messages = [\"hello\", \"world\", \"bye\"]\n",
    "show_messages(messages)"
   ]
  },
  {
   "cell_type": "code",
   "execution_count": 15,
   "id": "0eeb9ebd",
   "metadata": {},
   "outputs": [
    {
     "name": "stdout",
     "output_type": "stream",
     "text": [
      "['hello', 'world', 'bye']\n"
     ]
    }
   ],
   "source": [
    "# 8.10 Sending Messages: Start with a copy of your program from Exercise 8.9. Write a function called send_messages\n",
    "# that prints each text message to a new list called sent_messages as it's printed. After calling the function, print\n",
    "# both of your lists to make sure the messages were moved correctly.\n",
    "\n",
    "def send_messages(messages):\n",
    "    sent_messages = []\n",
    "    for message in messages:\n",
    "        sent_messages.append(message)\n",
    "    return sent_messages\n",
    "\n",
    "messages = [\"hello\", \"world\", \"bye\"]\n",
    "sent_messages = send_messages(messages)\n",
    "print(sent_messages)"
   ]
  },
  {
   "cell_type": "code",
   "execution_count": 16,
   "id": "663cf5a4",
   "metadata": {},
   "outputs": [
    {
     "name": "stdout",
     "output_type": "stream",
     "text": [
      "['hello', 'world', 'bye'] ['hello', 'world', 'bye']\n"
     ]
    }
   ],
   "source": [
    "# 8.11 Archived Messages: Start with your work from Exercise 8.10. Call the function send_messages() \n",
    "# with a copy of the list of messages. After calling the function, print both of your lists to show that the \n",
    "# original list has retained its messages.\n",
    "\n",
    "messages = [\"hello\", \"world\", \"bye\"]\n",
    "sent_messages = send_messages(messages)\n",
    "print(sent_messages, messages)"
   ]
  },
  {
   "cell_type": "code",
   "execution_count": 17,
   "id": "7e3d9477",
   "metadata": {},
   "outputs": [
    {
     "name": "stdout",
     "output_type": "stream",
     "text": [
      "These are the items you asked to put in your sandwich: ('cheese', 'bread', 'steak', 'maionaise')\n",
      "These are the items you asked to put in your sandwich: ('cheese', 'bread', 'salad')\n",
      "These are the items you asked to put in your sandwich: ('tuna', 'bread')\n"
     ]
    }
   ],
   "source": [
    "# 8.12 Sandwiches: Write a function that accepts a list of items a person wants on sandwichy. The function should have\n",
    "# one parameter that collects as many items as the function call provides, and it should print a summary of the \n",
    "# sandwich that's being ordered. Call the function three times, using a different number of arguments each time.\n",
    "\n",
    "def order_sandwich(*items):\n",
    "    return f\"These are the items you asked to put in your sandwich: {items}\"\n",
    "\n",
    "print(order_sandwich(\"cheese\", \"bread\", \"steak\", \"maionaise\"))\n",
    "print(order_sandwich(\"cheese\", \"bread\", \"salad\"))\n",
    "print(order_sandwich(\"tuna\", \"bread\"))"
   ]
  },
  {
   "cell_type": "code",
   "execution_count": 21,
   "id": "f8d16e7e",
   "metadata": {},
   "outputs": [
    {
     "name": "stdout",
     "output_type": "stream",
     "text": [
      "{'field': 'boxe', 'city': 'philadelphia', 'country': 'usa', 'first_name': 'rocky', 'last_name': 'balboa'}\n"
     ]
    }
   ],
   "source": [
    "# 8.13 User Profile: Start with a copy of user_profile.py from page 149. Build a profile of yourself by calling\n",
    "# build_profile(), using your first and last names and three other key-value pairs that describe you.\n",
    "def build_profile(first, last, **user_info):\n",
    "    user_info['first_name'] = first\n",
    "    user_info['last_name'] = last\n",
    "    return user_info\n",
    "\n",
    "print(build_profile(\"rocky\", \"balboa\", field=\"boxe\", city=\"philadelphia\", country=\"usa\"))"
   ]
  },
  {
   "cell_type": "code",
   "execution_count": 22,
   "id": "fdae6634",
   "metadata": {},
   "outputs": [
    {
     "name": "stdout",
     "output_type": "stream",
     "text": [
      "{'color': 'blue', 'tow_package': True, 'manufacturer': 'subaru', 'model': 'outback'}\n"
     ]
    }
   ],
   "source": [
    "# 8.14 Cars: Write a function that stores information about a car in a dictionary. The function should always receive\n",
    "# manufacturer and a model name. It should then accept an arbitraty number of keyword arguments. Call the function \n",
    "# with the required information and two other name-value pairs, such as a color or an optional feature. Your function\n",
    "# should work for a call like this one:\n",
    "# car = make_car('subaru', 'outback', color='blue', tow_package=True)\n",
    "def make_car(manufacturer, model, **car_info):\n",
    "    car_info[\"manufacturer\"] = manufacturer\n",
    "    car_info[\"model\"] = model\n",
    "    return car_info\n",
    "\n",
    "car = make_car('subaru', 'outback', color='blue', tow_package=True)\n",
    "# Print the dictionary that's returned to make sure all the information was stored correctly.\n",
    "print(car)"
   ]
  }
 ],
 "metadata": {
  "kernelspec": {
   "display_name": "Python 3 (ipykernel)",
   "language": "python",
   "name": "python3"
  },
  "language_info": {
   "codemirror_mode": {
    "name": "ipython",
    "version": 3
   },
   "file_extension": ".py",
   "mimetype": "text/x-python",
   "name": "python",
   "nbconvert_exporter": "python",
   "pygments_lexer": "ipython3",
   "version": "3.9.12"
  }
 },
 "nbformat": 4,
 "nbformat_minor": 5
}
