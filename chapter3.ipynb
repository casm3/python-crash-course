{
 "cells": [
  {
   "cell_type": "markdown",
   "id": "6f510cc1",
   "metadata": {},
   "source": [
    "### Try these short programs to get some firsthand experience with Python's lists. You might want to create a new folder for each chapter's exercises to keep them organized."
   ]
  },
  {
   "cell_type": "code",
   "execution_count": 1,
   "id": "7ea46669",
   "metadata": {},
   "outputs": [
    {
     "name": "stdout",
     "output_type": "stream",
     "text": [
      "joão\n",
      "maria\n",
      "pedro\n"
     ]
    }
   ],
   "source": [
    "# 3.1 Names: Store the names of a few of your friends in a list called names. Print each person's name by accessing\n",
    "# each element in the list, one at time.\n",
    "names = ['joão', 'maria', 'pedro']\n",
    "print(names[0])\n",
    "print(names[1])\n",
    "print(names[2])"
   ]
  },
  {
   "cell_type": "code",
   "execution_count": 2,
   "id": "a725f411",
   "metadata": {},
   "outputs": [
    {
     "name": "stdout",
     "output_type": "stream",
     "text": [
      "welcome joão\n",
      "welcome maria\n",
      "welcome pedro\n"
     ]
    }
   ],
   "source": [
    "# 3.2 Greetings: Start with the list you used in Exercise 3.1, but instead of just printing each person's name, \n",
    "# print a message to them. The text of each message should be the same, but each message should be personalized\n",
    "# with each person's name\n",
    "names = ['joão', 'maria', 'pedro']\n",
    "print('welcome', names[0])\n",
    "print('welcome', names[1])\n",
    "print('welcome', names[2])"
   ]
  },
  {
   "cell_type": "code",
   "execution_count": 3,
   "id": "144347bb",
   "metadata": {},
   "outputs": [
    {
     "name": "stdout",
     "output_type": "stream",
     "text": [
      "I would like to own a ferrari\n",
      "I would like to own a lamborghini\n",
      "I would like to own a maserati\n"
     ]
    }
   ],
   "source": [
    "# 3.3 Your Own List: Think of your favorite mode of transportation, such as a motorcycle or a car, and make a list \n",
    "# that stores several examples. Use your list to print a series of statements about these items, such as \"I would like\n",
    "# to own a Honda motorcycle\"\n",
    "cars = [\"ferrari\", \"lamborghini\", \"maserati\"]\n",
    "print(f\"I would like to own a {cars[0]}\")\n",
    "print(f\"I would like to own a {cars[1]}\")\n",
    "print(f\"I would like to own a {cars[2]}\")"
   ]
  },
  {
   "cell_type": "markdown",
   "id": "e52dab5e",
   "metadata": {},
   "source": [
    "### The following exercises are a bit more complex than those in Chapter 2, but they give you an opportunity to use list to print a message to each person, inviting them to dinner."
   ]
  },
  {
   "cell_type": "code",
   "execution_count": 2,
   "id": "ceaec811",
   "metadata": {},
   "outputs": [
    {
     "name": "stdout",
     "output_type": "stream",
     "text": [
      "peach, would you like to have dinner at my place?\n",
      "mario, would you like to have dinner at my place?\n",
      "luigi, would you like to have dinner at my place?\n"
     ]
    }
   ],
   "source": [
    "# 3.4 Guest List: If you could invite anyone, living or deceased, to dinner, who would you invite? Make a list\n",
    "# that includes at least three people you'd like to invite to dinner. Then use your list to print a message to each\n",
    "# person, inviting them to dinner.\n",
    "people = [\"peach\", \"mario\", \"luigi\"]\n",
    "print(f\"{people[0]}, would you like to have dinner at my place?\")\n",
    "print(f\"{people[1]}, would you like to have dinner at my place?\")\n",
    "print(f\"{people[2]}, would you like to have dinner at my place?\")"
   ]
  },
  {
   "cell_type": "code",
   "execution_count": 5,
   "id": "af444519",
   "metadata": {},
   "outputs": [
    {
     "name": "stdout",
     "output_type": "stream",
     "text": [
      "peach, would you like to have dinner at my place?\n",
      "mario, would you like to have dinner at my place?\n",
      "luigi, would you like to have dinner at my place?\n",
      "luigi can't make to dinner.\n",
      "peach, would you like to have dinner at my place?\n",
      "mario, would you like to have dinner at my place?\n",
      "yoshi, would you like to have dinner at my place?\n"
     ]
    }
   ],
   "source": [
    "# 3.5 Changing Guest List: You just heard that one of your guests cant't make the dinner, so you need to send\n",
    "# out a new set of invitations. You'll have to think of someone else to invite.\n",
    "\n",
    "# Start with your program from Exercise 3.4. Add a print() call at the end of your program stating the name\n",
    "# of the guest who can't make it.\n",
    "people = [\"peach\", \"mario\", \"luigi\"]\n",
    "print(f\"{people[0]}, would you like to have dinner at my place?\")\n",
    "print(f\"{people[1]}, would you like to have dinner at my place?\")\n",
    "print(f\"{people[2]}, would you like to have dinner at my place?\")\n",
    "print(f\"{people[2]} can't make to dinner.\")\n",
    "\n",
    "# Modify your list, replacing the name of the guest who can't make it with the name of the new person you are inviting\n",
    "people[2] = \"yoshi\"\n",
    "\n",
    "# Print a second set of invitation messages, one for each person who is still in your list.\n",
    "print(f\"{people[0]}, would you like to have dinner at my place?\")\n",
    "print(f\"{people[1]}, would you like to have dinner at my place?\")\n",
    "print(f\"{people[2]}, would you like to have dinner at my place?\")"
   ]
  },
  {
   "cell_type": "code",
   "execution_count": 6,
   "id": "085fc80d",
   "metadata": {},
   "outputs": [
    {
     "name": "stdout",
     "output_type": "stream",
     "text": [
      "peach, would you like to have dinner at my place?\n",
      "mario, would you like to have dinner at my place?\n",
      "luigi, would you like to have dinner at my place?\n",
      "Hey guys, I've found a bigger table!\n",
      "yoshi, would you like to have dinner at my place?\n",
      "peach, would you like to have dinner at my place?\n",
      "bowser, would you like to have dinner at my place?\n",
      "mario, would you like to have dinner at my place?\n",
      "luigi, would you like to have dinner at my place?\n",
      "daisy, would you like to have dinner at my place?\n"
     ]
    }
   ],
   "source": [
    "# 3.6 More Guests: You just found a bigger dinner table, so now more space is available. \n",
    "# Think of three more guests to invite to dinner.\n",
    "\n",
    "# Start with your program from exercise 3.4 or 3.5. Add a print() call to the end of your program informing people\n",
    "# that you found a bigger dinner table.\n",
    "people = [\"peach\", \"mario\", \"luigi\"]\n",
    "print(f\"{people[0]}, would you like to have dinner at my place?\")\n",
    "print(f\"{people[1]}, would you like to have dinner at my place?\")\n",
    "print(f\"{people[2]}, would you like to have dinner at my place?\")\n",
    "print(\"Hey guys, I've found a bigger table!\")\n",
    "\n",
    "# Use insert() to add one new guest to the beginning of your list.\n",
    "people.insert(0, \"yoshi\")\n",
    "\n",
    "# Use insert() to add one new guest to the middle of your list.\n",
    "people.insert(len(people)//2, \"bowser\")\n",
    "\n",
    "# Use append() to add one new guest to the end of your list.\n",
    "people.append(\"daisy\")\n",
    "\n",
    "# Print a new set of invitation messages, one for each person in your list.\n",
    "print(f\"{people[0]}, would you like to have dinner at my place?\")\n",
    "print(f\"{people[1]}, would you like to have dinner at my place?\")\n",
    "print(f\"{people[2]}, would you like to have dinner at my place?\")\n",
    "print(f\"{people[3]}, would you like to have dinner at my place?\")\n",
    "print(f\"{people[4]}, would you like to have dinner at my place?\")\n",
    "print(f\"{people[5]}, would you like to have dinner at my place?\")"
   ]
  },
  {
   "cell_type": "code",
   "execution_count": 10,
   "id": "dd2815ac",
   "metadata": {},
   "outputs": [
    {
     "name": "stdout",
     "output_type": "stream",
     "text": [
      "Hey guys, I've found a bigger table!\n",
      "yoshi, would you like to have dinner at my place?\n",
      "peach, would you like to have dinner at my place?\n",
      "bowser, would you like to have dinner at my place?\n",
      "mario, would you like to have dinner at my place?\n",
      "luigi, would you like to have dinner at my place?\n",
      "daisy, would you like to have dinner at my place?\n",
      "Sorry guys, the table will not arrive at time for dinner, I can only invite two persons.\n",
      "daisy, sorry, there is no space in the table.\n",
      "luigi, sorry, there is no space in the table.\n",
      "mario, sorry, there is no space in the table.\n",
      "bowser, sorry, there is no space in the table.\n",
      "yoshi, you still invited for dinner\n",
      "peach, you still invited for dinner\n",
      "[]\n"
     ]
    }
   ],
   "source": [
    "# 3.7 Shrinking Guest List: You just found out that your new dinner table won't arrive in time for the dinner, and \n",
    "# you have space only for two guests.\n",
    "\n",
    "# Start with your program from exercise 3.6. Add a new line that prints a message saying that you can invite only two\n",
    "# people for dinner\n",
    "people = [\"peach\", \"mario\", \"luigi\"]\n",
    "print(\"Hey guys, I've found a bigger table!\")\n",
    "people.insert(0, \"yoshi\")\n",
    "people.insert(len(people)//2, \"bowser\")\n",
    "people.append(\"daisy\")\n",
    "print(f\"{people[0]}, would you like to have dinner at my place?\")\n",
    "print(f\"{people[1]}, would you like to have dinner at my place?\")\n",
    "print(f\"{people[2]}, would you like to have dinner at my place?\")\n",
    "print(f\"{people[3]}, would you like to have dinner at my place?\")\n",
    "print(f\"{people[4]}, would you like to have dinner at my place?\")\n",
    "print(f\"{people[5]}, would you like to have dinner at my place?\")\n",
    "\n",
    "print(\"Sorry guys, the table will not arrive at time for dinner, I can only invite two persons.\")\n",
    "\n",
    "# Use pop() to remove guests from your list one at a time until only two names renmain in your list. Each time you pop\n",
    "# a name from your list, print a message to that person lettinmg them know you're sorry you can't invite them to \n",
    "# dinner \n",
    "print(f\"{people.pop()}, sorry, there is no space in the table.\")\n",
    "print(f\"{people.pop()}, sorry, there is no space in the table.\")\n",
    "print(f\"{people.pop()}, sorry, there is no space in the table.\")\n",
    "print(f\"{people.pop()}, sorry, there is no space in the table.\")\n",
    "\n",
    "# Print a message to each of the two people still on your list, lettting them know they're still invited.\n",
    "print(f\"{people[0]}, you still invited for dinner\")\n",
    "print(f\"{people[1]}, you still invited for dinner\")\n",
    "\n",
    "# Use del to remove the last two names from your list, so you have an empty list. Print your list to make sure you \n",
    "# actually have an empty list at the end of your program,.\n",
    "del people[0]\n",
    "del people[0]\n",
    "print(people)"
   ]
  },
  {
   "cell_type": "code",
   "execution_count": 14,
   "id": "f7370ab8",
   "metadata": {},
   "outputs": [
    {
     "name": "stdout",
     "output_type": "stream",
     "text": [
      "['spain', 'germany', 'italy', 'france', 'portugal']\n",
      "['france', 'germany', 'italy', 'portugal', 'spain']\n",
      "['spain', 'germany', 'italy', 'france', 'portugal']\n",
      "['portugal', 'france', 'italy', 'germany', 'spain']\n",
      "['spain', 'germany', 'italy', 'france', 'portugal']\n",
      "['france', 'germany', 'italy', 'portugal', 'spain']\n",
      "['spain', 'portugal', 'italy', 'germany', 'france']\n"
     ]
    }
   ],
   "source": [
    "# 3.8 Seeing the World: think of at least five places in the world you'd like to visit. \n",
    "\n",
    "# Store the locations in a list. Make sure the list is not in alphabetical order.\n",
    "places = [\"spain\", \"germany\", \"italy\",\"france\", \"portugal\"]\n",
    "\n",
    "# Print your list in its original order. Don't worry about printing the list neatly, just print it as raw python list.\n",
    "print(places)\n",
    "\n",
    "# Use sorted() to print your list in alphabetical order without changing the order of the original list. \n",
    "print(sorted(places))\n",
    "\n",
    "# Show that your list is still in its original order by printing it again.\n",
    "print(places)\n",
    "\n",
    "# Use reverse() to change the order of your list. Print the list to show that its order changed.\n",
    "places.reverse()\n",
    "print(places)\n",
    "\n",
    "# User reverse() to change the order of your list again. Print the list to show it's back to its original order.\n",
    "places.reverse()\n",
    "print(places)\n",
    "\n",
    "# Use sort() to change your list so it's stored in alphabetical order. Print the list to show that its order has\n",
    "# been changed.\n",
    "places.sort()\n",
    "print(places)\n",
    "\n",
    "# Use sort() to change your list so it's stored in reverse alphabetical order. Print the list to show that \n",
    "# its order has been changed.\n",
    "places.sort(reverse=True)\n",
    "print(places)"
   ]
  },
  {
   "cell_type": "code",
   "execution_count": 15,
   "id": "92a32d79",
   "metadata": {},
   "outputs": [
    {
     "name": "stdout",
     "output_type": "stream",
     "text": [
      "peach, would you like to have dinner at my place?\n",
      "mario, would you like to have dinner at my place?\n",
      "luigi, would you like to have dinner at my place?\n",
      "I'm inviting 3 persons for dinner.\n"
     ]
    }
   ],
   "source": [
    "# 3.9 Dinner Guests: Working with one of the programs from exercises 3.4 through 3.7, use len() to print a message\n",
    "# indicating the number of people you are inviting to dinner.\n",
    "people = [\"peach\", \"mario\", \"luigi\"]\n",
    "print(f\"{people[0]}, would you like to have dinner at my place?\")\n",
    "print(f\"{people[1]}, would you like to have dinner at my place?\")\n",
    "print(f\"{people[2]}, would you like to have dinner at my place?\")\n",
    "print(f\"I'm inviting {len(people)} persons for dinner.\")"
   ]
  },
  {
   "cell_type": "code",
   "execution_count": 16,
   "id": "3e8dd577",
   "metadata": {},
   "outputs": [
    {
     "name": "stdout",
     "output_type": "stream",
     "text": [
      "5\n",
      "['france', 'germany', 'italy', 'portugal', 'spain']\n",
      "['france', 'germany', 'italy', 'portugal', 'spain']\n",
      "['spain', 'portugal', 'italy', 'germany', 'france']\n"
     ]
    }
   ],
   "source": [
    "# 3.10 Every function: Think of something you could store in a list. For example, you could make a list of mountains\n",
    "# rivers, countries, cities, languages, or anything else you'd like. Write a program that creates a list containing \n",
    "# these items and the use each function introduced in this chapter at least once.\n",
    "places = [\"spain\", \"germany\", \"italy\",\"france\", \"portugal\"]\n",
    "print(len(places))\n",
    "print(sorted(places))\n",
    "places.sort()\n",
    "print(places)\n",
    "places.reverse()\n",
    "print(places)\n",
    "places.insert(0, \"brazil\")\n",
    "del places[1]\n",
    "places.pop()\n",
    "places.append(\"china\")"
   ]
  },
  {
   "cell_type": "code",
   "execution_count": 18,
   "id": "8223f758",
   "metadata": {},
   "outputs": [
    {
     "name": "stdout",
     "output_type": "stream",
     "text": [
      "chile\n"
     ]
    }
   ],
   "source": [
    "# 3.11 Intentional error: If you haven't received an index error in one of your programs yet, try to make one happen.\n",
    "# Change an index in one of your programs to produce an index error. Make sure you correct the error before closing \n",
    "# the program\n",
    "\"\"\"\n",
    "places = []\n",
    "print(places[0])\n",
    "\"\"\"\n",
    "places = []\n",
    "places.append(\"chile\")\n",
    "print(places[0])"
   ]
  },
  {
   "cell_type": "code",
   "execution_count": null,
   "id": "62348ed5",
   "metadata": {},
   "outputs": [],
   "source": []
  }
 ],
 "metadata": {
  "kernelspec": {
   "display_name": "Python 3 (ipykernel)",
   "language": "python",
   "name": "python3"
  },
  "language_info": {
   "codemirror_mode": {
    "name": "ipython",
    "version": 3
   },
   "file_extension": ".py",
   "mimetype": "text/x-python",
   "name": "python",
   "nbconvert_exporter": "python",
   "pygments_lexer": "ipython3",
   "version": "3.9.12"
  }
 },
 "nbformat": 4,
 "nbformat_minor": 5
}
