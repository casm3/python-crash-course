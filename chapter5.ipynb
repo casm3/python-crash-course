{
 "cells": [
  {
   "cell_type": "code",
   "execution_count": 6,
   "id": "86351faf",
   "metadata": {},
   "outputs": [
    {
     "name": "stdout",
     "output_type": "stream",
     "text": [
      "\n",
      "Is the len of the car name bigger less than five? I predict False.\n",
      "False\n",
      "\n",
      "Is car == 'audi'? I predict False.\n",
      "False\n",
      "\n",
      "The name of the car starts with letter 'a'? I predict False.\n",
      "False\n",
      "\n",
      "The name of the car ends with letter 'i'? I predict False.\n",
      "False\n",
      "\n",
      "Is car != 'audi'? I predict True.\n",
      "False\n",
      "\n",
      "Is there a letter 'g' in the car name? I predict False.\n",
      "True\n",
      "\n",
      "Is the len of the car name bigger than five? I predict True.\n",
      "True\n",
      "\n",
      "The name of the car starts with letter 's'? I predict True.\n",
      "True\n",
      "\n",
      "The name of the car ends with letter 'u'? I predict True.\n",
      "True\n",
      "\n",
      "Is car == 'subaru'? I predict True.\n",
      "True\n"
     ]
    }
   ],
   "source": [
    "# 5.1 Conditional Tests: Write a series of conditional tests. Print a statement describing each test and your \n",
    "# prediction for the results of each test. your code should look something like this?\n",
    "# --------\n",
    "car = 'subaru'\n",
    "print(\"\\nIs the len of the car name bigger less than five? I predict False.\")\n",
    "print(len(car) < 5)\n",
    "print(\"\\nIs car == 'audi'? I predict False.\")\n",
    "print(car == 'audi')\n",
    "print(\"\\nThe name of the car starts with letter 'a'? I predict False.\")\n",
    "print(car[0] == 'a')\n",
    "print(\"\\nThe name of the car ends with letter 'i'? I predict False.\")\n",
    "print(car[-1] == 'i')\n",
    "print(\"\\nIs car != 'audi'? I predict True.\")\n",
    "print('g' in car)\n",
    "print(\"\\nIs there a letter 'g' in the car name? I predict False.\")\n",
    "print(car != 'audi')\n",
    "# look close at your results, and make sure you understand why each line evaluates to True or False\n",
    "# Create at least ten tests. Have at least five tests evaluate to True and another five evaluates do False\n",
    "print(\"\\nIs the len of the car name bigger than five? I predict True.\")\n",
    "print(len(car) > 5)\n",
    "print(\"\\nThe name of the car starts with letter 's'? I predict True.\")\n",
    "print(car[0] == 's')\n",
    "print(\"\\nThe name of the car ends with letter 'u'? I predict True.\")\n",
    "print(car[-1] == 'u')\n",
    "print(\"\\nIs car == 'subaru'? I predict True.\")\n",
    "print(car == 'subaru')"
   ]
  },
  {
   "cell_type": "code",
   "execution_count": 11,
   "id": "92f040ce",
   "metadata": {},
   "outputs": [
    {
     "name": "stdout",
     "output_type": "stream",
     "text": [
      "False\n",
      "True\n",
      "True\n",
      "True\n",
      "False\n",
      "False\n",
      "True\n",
      "True\n",
      "True\n",
      "True\n",
      "True\n",
      "True\n"
     ]
    }
   ],
   "source": [
    "# 5.2 More Conditional Tests: You don't have to limit to ten. If you want to try more comparisons, write more tests \n",
    "# and add them to conditional_tests.py. Have at least one True and one False result for each of the following:\n",
    "\n",
    "# Tests for equality and inequality with strings\n",
    "print(\"a\" == \"b\")\n",
    "print(\"a\" != \"b\")\n",
    "\n",
    "# Tests using the lower() method\n",
    "print(\"A\".lower() == \"a\")\n",
    "\n",
    "# Numerical tests involving equality and inequality, greater than and less than, greater than or equal to, and less \n",
    "# than or equal to\n",
    "print(5 == 5)\n",
    "print(5 > 5)\n",
    "print(5 < 5)\n",
    "print(5 >= 5)\n",
    "print(5 <= 5)\n",
    "\n",
    "# Tests using the and keyword and the or keyword\n",
    "print(True and True)\n",
    "print(True or False)\n",
    "\n",
    "# Tests whether an item is in a list\n",
    "print(5 in [1, 2, 5])\n",
    "\n",
    "# Tests whether an item is not in a list\n",
    "print(3 not in [1, 2, 5])"
   ]
  },
  {
   "cell_type": "code",
   "execution_count": 12,
   "id": "9ab8510f",
   "metadata": {},
   "outputs": [
    {
     "name": "stdout",
     "output_type": "stream",
     "text": [
      "The alien color is not 'green'\n"
     ]
    }
   ],
   "source": [
    "# 5.3 Alien Colors: Imagine an alien was just shot down in a game. create a variable called alien_color and assign \n",
    "# it a value of 'green', 'yellow', or 'red'\n",
    "alien_color = 'yellow'\n",
    "\n",
    "# Write an if statement to test whether the alien's color is green. If it is, print a message that the player just\n",
    "# earned 5 points.\n",
    "if alien_color == 'green':\n",
    "    print(\"You earned 5 points\")\n",
    "    \n",
    "# Write one version of this program that passes the if test and another thar fails. \n",
    "# (The version that fails will have an output)\n",
    "if alien_color == 'green':\n",
    "    print(\"You earned 5 points\")\n",
    "else:\n",
    "    print(\"The alien color is not 'green'\")"
   ]
  },
  {
   "cell_type": "code",
   "execution_count": 14,
   "id": "410ea760",
   "metadata": {},
   "outputs": [
    {
     "name": "stdout",
     "output_type": "stream",
     "text": [
      "You earned 10 points\n",
      "You earned 10 points\n"
     ]
    }
   ],
   "source": [
    "# 5.4 Alien Colors: Choose a color for an alien as you did in Exercise 5.3, and write an if-else chain.\n",
    "alien_color = 'yellow'\n",
    "\n",
    "# If the alien's color is green, print a statement that the player just earned 5 points for shooting the alien.\n",
    "# If the alien's color isn't green, print a statement that the player just earned 10 points.\n",
    "if alien_color == 'green':\n",
    "    print(\"You earned 5 points\")\n",
    "if alien_color != 'green':\n",
    "    print(\"You earned 10 points\")\n",
    "\n",
    "# Write one version of this program that runs the if block and another that runs the else block.\n",
    "if alien_color == 'green':\n",
    "    print(\"You earned 5 points\")\n",
    "else:\n",
    "    print(\"You earned 10 points\")"
   ]
  },
  {
   "cell_type": "code",
   "execution_count": 16,
   "id": "33cf0679",
   "metadata": {},
   "outputs": [
    {
     "name": "stdout",
     "output_type": "stream",
     "text": [
      "You earned 15 points\n"
     ]
    }
   ],
   "source": [
    "# 5.5 Alien Colors: Turn your if-else chain from Exercise 5.4 into an if-elif-else chain.\n",
    "from random import choice\n",
    "alien_color = choice(['yellow', 'green', 'red'])\n",
    "\n",
    "# If the alien is green, print a message that the player earned 5 points.\n",
    "# If the alien is yellow, print a message that the player earned 10 points.\n",
    "# If the alien is red, print a message that the player earned 15 points.\n",
    "if alien_color == 'green':\n",
    "    print(\"You earned 5 points\")\n",
    "elif alien_color == 'yellow':\n",
    "    print(\"You earned 10 points\")\n",
    "else:\n",
    "    print(\"You earned 15 points\")\n",
    "\n",
    "# Write three versions of this program, making sure each message is printed for the appropriate color alien."
   ]
  },
  {
   "cell_type": "code",
   "execution_count": 17,
   "id": "87e64881",
   "metadata": {},
   "outputs": [
    {
     "name": "stdout",
     "output_type": "stream",
     "text": [
      "The person is an adult.\n"
     ]
    }
   ],
   "source": [
    "# 5.6 Stages of Life: Write an if-elif-else chain that determines a person's stage of life. Set a value for the \n",
    "# variable age, and then:\n",
    "age = 30\n",
    "\n",
    "# If the person is less than 2 years old, print a message that the person is a baby.\n",
    "# If the person is at least 2 years old but less than 4, print a message that the person is a toddler.\n",
    "# If the person is at least 4 years old but less than 13, print a message that the person is a kid.\n",
    "# If the person is at least 13 years old but less than 20, print a message that the person is a teenager.\n",
    "# If the person is at least 20 years old but less than 65, print a message that the person is an adult.\n",
    "# If the person is age 65 or older, print a message that the person is an elder.\n",
    "if age < 2:\n",
    "    print(\"The person is a baby.\")\n",
    "elif 2 <= age < 4:\n",
    "    print(\"The person is a toddler.\")\n",
    "elif 4 <= age < 13:\n",
    "    print(\"The person is a kid.\")\n",
    "elif 13 <= age < 20:\n",
    "    print(\"The person is a teenager.\")\n",
    "elif 20 <= age < 65:\n",
    "    print(\"The person is an adult.\")\n",
    "elif age > 65:\n",
    "    print(\"The person is an elder.\")"
   ]
  },
  {
   "cell_type": "code",
   "execution_count": 18,
   "id": "fa9b7fe1",
   "metadata": {},
   "outputs": [
    {
     "name": "stdout",
     "output_type": "stream",
     "text": [
      "You really like apples!\n",
      "You really like bananas!\n",
      "You really like oranges!\n"
     ]
    }
   ],
   "source": [
    "# 5.7 Favorite Fruit: Make a list of your favorite fruits, and then write a series of independent if statements that\n",
    "# check for certain fruints in your list.\n",
    "\n",
    "# Make a list of your three favorite fruits and call it favorite_fruits.\n",
    "favorite_fruits = [\"apples\", \"bananas\", \"oranges\"]\n",
    "\n",
    "# Write five if statements. Each should check whether a certain kind of fruit is in your list. If the fruit is in your\n",
    "# list, the if block should print a statement, such as You really like bananas!\n",
    "if \"apples\" in favorite_fruits:\n",
    "    print(\"You really like apples!\")\n",
    "if \"bananas\" in favorite_fruits:\n",
    "    print(\"You really like bananas!\")\n",
    "if \"oranges\" in favorite_fruits:\n",
    "    print(\"You really like oranges!\")\n",
    "if \"strawberries\" in favorite_fruits:\n",
    "    print(\"You really like strawberries!\")\n",
    "if \"papayas\" in favorite_fruits:\n",
    "    print(\"You really like papayas!\")"
   ]
  },
  {
   "cell_type": "code",
   "execution_count": 19,
   "id": "82b66c8f",
   "metadata": {},
   "outputs": [
    {
     "name": "stdout",
     "output_type": "stream",
     "text": [
      "Hello Admin, would you like to see a status report?\n",
      "Hello Carlos, thank you for logging in again.\n",
      "Hello Melo, thank you for logging in again.\n",
      "Hello Maria, thank you for logging in again.\n",
      "Hello Jaden, thank you for logging in again.\n"
     ]
    }
   ],
   "source": [
    "# 5.8 Hello Admin: Make a list of five or more usernames, including the name 'admin'. Imagine you are writing code\n",
    "# that will print a greeting to each user after they log in to a website. Loop through the list, and print a \n",
    "# greeting to each user:\n",
    "usernames = [\"admin\", \"carlos\", \"melo\", \"maria\", \"jaden\"]\n",
    "\n",
    "# If the username is 'admin', print a special greeting, such as Hello admin, would you like to see a status report?\n",
    "# Otherwise, print a generic greeting, such as Hello Jaden, thank you for logging in again.\n",
    "for user in usernames:\n",
    "    if user == \"admin\":\n",
    "        print(f\"Hello {user.title()}, would you like to see a status report?\")\n",
    "    else:\n",
    "        print(f\"Hello {user.title()}, thank you for logging in again.\")"
   ]
  },
  {
   "cell_type": "code",
   "execution_count": 20,
   "id": "90b904e3",
   "metadata": {},
   "outputs": [
    {
     "name": "stdout",
     "output_type": "stream",
     "text": [
      "We need to find some users!\n"
     ]
    }
   ],
   "source": [
    "# 5.9 No Users: Add an if test to hello_admin.py to make sure the list of users is not empty.\n",
    "\n",
    "# If the list is empty, print the message We need to find some users!\n",
    "# Remove all of the usernames from your list, and make sure the correct message is printed.\n",
    "usernames = []\n",
    "if not usernames:\n",
    "    print(\"We need to find some users!\")\n",
    "\n",
    "for user in usernames:\n",
    "    if user == \"admin\":\n",
    "        print(f\"Hello {user.title()}, would you like to see a status report?\")\n",
    "    else:\n",
    "        print(f\"Hello {user.title()}, thank you for logging in again.\")"
   ]
  },
  {
   "cell_type": "code",
   "execution_count": 24,
   "id": "369ac754",
   "metadata": {},
   "outputs": [
    {
     "name": "stdout",
     "output_type": "stream",
     "text": [
      "You need to enter a new username\n",
      "You need to enter a new username\n",
      "The username is available\n",
      "The username is available\n",
      "The username is available\n"
     ]
    }
   ],
   "source": [
    "# 5.10 Checking Usernames: Do the following to create a program that simulates how websites ensure that everyone has\n",
    "# a unique username.\n",
    "\n",
    "# Make a list of five or more usernames called current_users.\n",
    "# Make another list of fiver usernames called new_users. Make sure one or two of the new usernames are also in the \n",
    "# current_users list.\n",
    "# Loop through new_users list to see if each new username has already been used. If it has, print a message that the \n",
    "# person will need to enter a new username. If a username has not been used, print a message saying that the username\n",
    "# is available.\n",
    "# Make sure your comparison is case insentisitve. If 'John' has been used, 'JOHN' should not be accepted. (To do this,\n",
    "# you will need to make a copy of current_users containing the lowercase versions of all existing users.)\n",
    "current_users = [\"admin\", \"carlos\", \"melo\", \"maria\", \"jaden\"]\n",
    "new_users = [\"admin\", \"carlos\", \"john\", \"von neumann\", \"turing\"]\n",
    "\n",
    "for user in new_users:\n",
    "    if user.lower() in [current_user.lower() for current_user in current_users]:\n",
    "        print(\"You need to enter a new username\")\n",
    "    else:\n",
    "        print(\"The username is available\")"
   ]
  },
  {
   "cell_type": "code",
   "execution_count": 22,
   "id": "9d3746d6",
   "metadata": {},
   "outputs": [
    {
     "name": "stdout",
     "output_type": "stream",
     "text": [
      "1st\n",
      "2nd\n",
      "3rd\n",
      "4th\n",
      "5th\n",
      "6th\n",
      "7th\n",
      "8th\n",
      "9th\n"
     ]
    }
   ],
   "source": [
    "# 5.11 Ordinal Numbers: Ordinal numbers indicate their position in a list, such as 1st or 2nd. Most ordinal numbers\n",
    "# end in th, except 1, 2, and 3.\n",
    "\n",
    "# Store the numbers 1 through 9 in a list.\n",
    "# Loop through the list.\n",
    "# Use an if-elif-else chain inside the loop to print the proper ordinal ending for each number. Your output should \n",
    "# read \"1st 2nd 3rd 4th 5th 6th 7th 8th 9th\", and each result should be on a separate line.\n",
    "ordinal_numbers = [\"1\", \"2\", \"3\", \"4\", \"5\", \"6\", \"7\", \"8\", \"9\"]\n",
    "\n",
    "for number in ordinal_numbers:\n",
    "    if number not in [\"1\", \"2\", \"3\"]:\n",
    "        print(number+\"th\")\n",
    "    elif number == \"1\":\n",
    "        print(number+\"st\")\n",
    "    elif number == \"2\":\n",
    "        print(number+\"nd\")\n",
    "    elif number == \"3\":\n",
    "        print(number+\"rd\")"
   ]
  },
  {
   "cell_type": "code",
   "execution_count": null,
   "id": "4132e979",
   "metadata": {},
   "outputs": [],
   "source": []
  }
 ],
 "metadata": {
  "kernelspec": {
   "display_name": "Python 3 (ipykernel)",
   "language": "python",
   "name": "python3"
  },
  "language_info": {
   "codemirror_mode": {
    "name": "ipython",
    "version": 3
   },
   "file_extension": ".py",
   "mimetype": "text/x-python",
   "name": "python",
   "nbconvert_exporter": "python",
   "pygments_lexer": "ipython3",
   "version": "3.9.12"
  }
 },
 "nbformat": 4,
 "nbformat_minor": 5
}
