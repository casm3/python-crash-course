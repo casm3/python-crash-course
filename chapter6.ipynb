{
 "cells": [
  {
   "cell_type": "code",
   "execution_count": 1,
   "id": "635d8a02",
   "metadata": {},
   "outputs": [
    {
     "name": "stdout",
     "output_type": "stream",
     "text": [
      "John\n",
      "Balboa\n",
      "35\n",
      "Philadelphia\n"
     ]
    }
   ],
   "source": [
    "# 6.1 Person: Use a dictionary to store information about a person you know. Store their first name, \n",
    "# last name, age, and the city in which they live. You should have keys such as first_name, \n",
    "# last_name, age, and city. Print each piece of information stored in your dictionary.\n",
    "\n",
    "person = {\n",
    "    \"first_name\": \"John\",\n",
    "    \"last_name\": \"Balboa\",\n",
    "    \"age\": 35,\n",
    "    \"city\": \"Philadelphia\"\n",
    "}\n",
    "\n",
    "print(person[\"first_name\"])\n",
    "print(person[\"last_name\"])\n",
    "print(person[\"age\"])\n",
    "print(person[\"city\"])"
   ]
  },
  {
   "cell_type": "code",
   "execution_count": 3,
   "id": "83a4c814",
   "metadata": {},
   "outputs": [
    {
     "name": "stdout",
     "output_type": "stream",
     "text": [
      "Balboa : 1\n",
      "Apollo : 2\n",
      "Tyson : 3\n",
      "Drago : 4\n",
      "Hogan : 5\n"
     ]
    }
   ],
   "source": [
    "# 6.2 Favorite Numbers: Use a dictionary to store people's favorite numbers. Think of five names, and use them as keys\n",
    "# in your dictionary. Think of a favorite number for each person, and store each as a value in your dictionary. Print\n",
    "# each person's name and their favorite number. For even more fun, poll a few friends and get some actual data for \n",
    "# your program.\n",
    "\n",
    "favorite_numbers = {\n",
    "    \"Balboa\": 1,\n",
    "    \"Apollo\": 2,\n",
    "    \"Tyson\": 3,\n",
    "    \"Drago\": 4,\n",
    "    \"Hogan\": 5\n",
    "}\n",
    "\n",
    "for person, number in favorite_numbers.items():\n",
    "    print(person,\":\", number)"
   ]
  },
  {
   "cell_type": "code",
   "execution_count": 4,
   "id": "f0562167",
   "metadata": {},
   "outputs": [
    {
     "name": "stdout",
     "output_type": "stream",
     "text": [
      "if : The 'if' statement is used for conditional execution\n",
      "else : The 'else' statement is used for conditional execution\n",
      "elif : The 'elif' statement is used for conditional execution\n",
      "for : The 'for' statement is used to iterate over the elements of a sequence\n",
      "while : The 'while' statement is used for repeated execution as long as an expression is true\n"
     ]
    }
   ],
   "source": [
    "# 6.3 Glossary: A Python dictionary can be used to model an actual dictionary. However, to avoid confusion, let's call\n",
    "# it a glossary.\n",
    "\n",
    "# Think of five programming words you've learned about in the previous chapters. Use these keywords as the keys in\n",
    "# your glossary, and store their meaning as values.\n",
    "\n",
    "# Print each word and its meaning as neatly formatted output. You might print the word followed by a colon and then\n",
    "# its meaning, or print the word on one line and then print its meaning indented on a second line. Use the new line\n",
    "# character (\\n) to insert a blank line between each word-meaning pair in your output.\n",
    "\n",
    "# 6.4 Glossary 2: Now that you know how to loop through a dictionary, clean up the code from Exercise 6.3 by \n",
    "# replacing your series of print() calls with a loop that runs through the dictionary's keys and values. When you are\n",
    "# sure that your loop works, add five more Python terms to your glossary. When you run your program again, these new\n",
    "# words and meanings should automatically be included in the output.\n",
    "\n",
    "glossary = {\n",
    "    \"if\": \"The 'if' statement is used for conditional execution\",\n",
    "    \"else\": \"The 'else' statement is used for conditional execution\",\n",
    "    \"elif\": \"The 'elif' statement is used for conditional execution\",\n",
    "    \"for\": \"The 'for' statement is used to iterate over the elements of a sequence\",\n",
    "    \"while\": \"The 'while' statement is used for repeated execution as long as an expression is true\"\n",
    "}\n",
    "\n",
    "for keyword, definition in glossary.items():\n",
    "    print(keyword,\":\", definition)"
   ]
  },
  {
   "cell_type": "code",
   "execution_count": 7,
   "id": "c52ddc56",
   "metadata": {},
   "outputs": [
    {
     "name": "stdout",
     "output_type": "stream",
     "text": [
      "The Nile runs through Egypt\n",
      "The Missipi runs through United States Of America\n",
      "The Amazonas runs through Brazil\n",
      "nile\n",
      "missipi\n",
      "amazonas\n",
      "egypt\n",
      "united states of america\n",
      "brazil\n"
     ]
    }
   ],
   "source": [
    "# 6.5 Rivers: Make a dictionary containing three major rivers and the country each river runs through. One key-value\n",
    "# pair might be 'nile': 'egypt'.\n",
    "\n",
    "# Use a loop to print a sentence about each river, such as The Nile runs through Egypt.\n",
    "# Use a loop to print the name of each river included in the dictionary.\n",
    "# Use a loop to print the name of each country included in the dictionary.\n",
    "\n",
    "rivers = {\n",
    "    \"nile\": \"egypt\",\n",
    "    \"missipi\": \"united states of america\",\n",
    "    \"amazonas\": \"brazil\"\n",
    "}\n",
    "\n",
    "for river, country in rivers.items():\n",
    "    print(\"The \" + river.title() + \" runs through \" + country.title())\n",
    "    \n",
    "for river in rivers:\n",
    "    print(river)\n",
    "    \n",
    "for country in rivers.values():\n",
    "    print(country)"
   ]
  },
  {
   "cell_type": "code",
   "execution_count": 8,
   "id": "9151eb41",
   "metadata": {},
   "outputs": [
    {
     "name": "stdout",
     "output_type": "stream",
     "text": [
      "Thanks for responding the poll\n",
      "Please take poll\n",
      "Please take poll\n",
      "Thanks for responding the poll\n"
     ]
    }
   ],
   "source": [
    "# 6.6: Polling: Use the code in favorite_languages.py\n",
    "\n",
    "favorite_languages = {\n",
    "    \"jen\": \"python\",\n",
    "    \"sarah\": \"c\",\n",
    "    \"edward\": \"ruby\",\n",
    "    \"phil\": \"python\"\n",
    "}\n",
    "\n",
    "# Make a list of people who should take the favorite languages poll. Include some names that are already in the \n",
    "# dictionary and some that are not.\n",
    "list_of_people = [\"jen\", \"mark\", \"balboa\", \"phil\"]\n",
    "\n",
    "# Loop through the list of people who should take the poll. If they have already taken the poll, print a message\n",
    "# thanking them for responding. If they have not yet taken the poll, print a message inviting them to take the poll.\n",
    "for person in list_of_people:\n",
    "    if person in favorite_languages:\n",
    "        print(\"Thanks for responding the poll\")\n",
    "    else:\n",
    "        print(\"Please take poll\")"
   ]
  },
  {
   "cell_type": "code",
   "execution_count": 10,
   "id": "b0a66dad",
   "metadata": {},
   "outputs": [
    {
     "name": "stdout",
     "output_type": "stream",
     "text": [
      "first_name: John\n",
      "last_name: Balboa\n",
      "age: 35\n",
      "city: Philadelphia\n",
      "first_name: Apollo\n",
      "last_name: Creed\n",
      "age: 34\n",
      "city: Nevada\n",
      "first_name: Ivan\n",
      "last_name: Drago\n",
      "age: 30\n",
      "city: Kyiv\n"
     ]
    }
   ],
   "source": [
    "# 6.7 People: Start with the program you wrote for Exercise 6.1. Make two new dictionaries representing different \n",
    "# people, and store all three dictionaries in a list called people. Loop through your list of people. As you loop\n",
    "# through the list, print everything you know about each person.\n",
    "\n",
    "balboa_dict = {\n",
    "    \"first_name\": \"John\",\n",
    "    \"last_name\": \"Balboa\",\n",
    "    \"age\": 35,\n",
    "    \"city\": \"Philadelphia\"\n",
    "}\n",
    "\n",
    "creed_dict = {\n",
    "    \"first_name\": \"Apollo\",\n",
    "    \"last_name\": \"Creed\",\n",
    "    \"age\": 34,\n",
    "    \"city\": \"Nevada\"\n",
    "}\n",
    "\n",
    "drago_dict = {\n",
    "    \"first_name\": \"Ivan\",\n",
    "    \"last_name\": \"Drago\",\n",
    "    \"age\": 30,\n",
    "    \"city\": \"Kyiv\"\n",
    "}\n",
    "\n",
    "people = [balboa_dict, creed_dict, drago_dict]\n",
    "\n",
    "for person in people:\n",
    "    for key, value in person.items():\n",
    "        print(f\"{key}: {value}\")"
   ]
  },
  {
   "cell_type": "code",
   "execution_count": 12,
   "id": "50895340",
   "metadata": {},
   "outputs": [
    {
     "name": "stdout",
     "output_type": "stream",
     "text": [
      "name: bardo\n",
      "kind: cat\n",
      "owner: carlos\n",
      "name: pandora\n",
      "kind: cat\n",
      "owner: carlos\n",
      "name: duduxo\n",
      "kind: cat\n",
      "owner: carlos\n"
     ]
    }
   ],
   "source": [
    "# 6.8 Pets: Make several dictionaries, where each dictionary represents a different pet. In each dictionary, include\n",
    "# the kind of animal and the owner's name. Store these dictionaries in a list called pets. Next, loop through your\n",
    "# listand as you do, print everything you know about each pet.\n",
    "\n",
    "bardo_dict = {\n",
    "    \"name\": \"bardo\",\n",
    "    \"kind\": \"cat\",\n",
    "    \"owner\": \"carlos\"\n",
    "}\n",
    "\n",
    "pandora_dict = {\n",
    "    \"name\": \"pandora\",\n",
    "    \"kind\": \"cat\",\n",
    "    \"owner\": \"carlos\"\n",
    "}\n",
    "\n",
    "duduxo_dict = {\n",
    "    \"name\": \"duduxo\",\n",
    "    \"kind\": \"cat\",\n",
    "    \"owner\": \"carlos\"\n",
    "}\n",
    "\n",
    "pets = [bardo_dict, pandora_dict, duduxo_dict]\n",
    "\n",
    "for pet in pets:\n",
    "    for key, value in pet.items():\n",
    "        print(f\"{key}: {value}\")"
   ]
  },
  {
   "cell_type": "code",
   "execution_count": 14,
   "id": "e960a96b",
   "metadata": {},
   "outputs": [
    {
     "name": "stdout",
     "output_type": "stream",
     "text": [
      "balboa: phily\n",
      "creed: nevada\n",
      "drogo: moscow\n"
     ]
    }
   ],
   "source": [
    "# 6.9 Favorite Places: Make a dictionary called favorite_places. Think of three names to use as keys in the \n",
    "# dictionary, and store one to three favorite places for each person. To make this exercisea bit more interesting, ask\n",
    "# some friends to name a few of their favorite places. Loop through the dictionary, and print each person's name and \n",
    "# their favorite places.\n",
    "favorite_places = {\n",
    "    \"balboa\": \"phily\",\n",
    "    \"creed\": \"nevada\",\n",
    "    \"drogo\": \"moscow\"\n",
    "}\n",
    "\n",
    "for person, place in favorite_places.items():\n",
    "    print(f\"{person}: {place}\")"
   ]
  },
  {
   "cell_type": "code",
   "execution_count": 19,
   "id": "faac13e5",
   "metadata": {},
   "outputs": [
    {
     "name": "stdout",
     "output_type": "stream",
     "text": [
      "Balboa: 1\n",
      "Balboa: 2\n",
      "Balboa: 3\n",
      "Apollo: 2\n",
      "Apollo: 4\n",
      "Apollo: 5\n",
      "Tyson: 6\n",
      "Tyson: 7\n",
      "Tyson: 8\n",
      "Drago: 7\n",
      "Drago: 8\n",
      "Drago: 9\n",
      "Hogan: 5\n",
      "Hogan: 6\n",
      "Hogan: 7\n"
     ]
    }
   ],
   "source": [
    "# 6.10 Favorite Numbers: Modify your program from Exercise 6.2 so each person can have more than one favorite number.\n",
    "# Then print each person's name and their favorite numbers.\n",
    "favorite_numbers = {\n",
    "    \"Balboa\": [1, 2, 3],\n",
    "    \"Apollo\": [2, 4, 5],\n",
    "    \"Tyson\": [6, 7, 8],\n",
    "    \"Drago\": [7, 8, 9],\n",
    "    \"Hogan\": [5, 6, 7]\n",
    "}\n",
    "\n",
    "for person, numbers in favorite_numbers.items():\n",
    "    for number in numbers:\n",
    "        print(f\"{person}: {number}\")"
   ]
  },
  {
   "cell_type": "code",
   "execution_count": 24,
   "id": "f76844b9",
   "metadata": {},
   "outputs": [
    {
     "name": "stdout",
     "output_type": "stream",
     "text": [
      "kyiv country\n",
      "kyiv population\n",
      "kyiv fact\n",
      "philadelphia country\n",
      "philadelphia population\n",
      "philadelphia fact\n",
      "nevada country\n",
      "nevada population\n",
      "nevada fact\n"
     ]
    }
   ],
   "source": [
    "# 6.11 Cities: Make a dictionary called cities. Use the names of three cities as keys in your dictionary. Create a\n",
    "# dictionary of information about each city and include the country that the city is in, it's approximate population,\n",
    "# and one fact about that city. The keys for each city's dictionary should be something like country, population and\n",
    "# fact. Print the name of each city and all of the information you have stored about it.\n",
    "cities = {\n",
    "    \"kyiv\": {\n",
    "        \"country\": \"Ukraine\",\n",
    "        \"population\": 2_800_000,\n",
    "        \"fact\": \"Ivan Drago's City\"\n",
    "    },\n",
    "    \"philadelphia\": {\n",
    "        \"country\": \"united states of america\",\n",
    "        \"population\": 1_500_000,\n",
    "        \"fact\": \"Balboa's City\"\n",
    "    },\n",
    "    \"nevada\": {\n",
    "        \"country\": \"united states of america\",\n",
    "        \"population\": 3_000_000,\n",
    "        \"fact\": \"Creed's City\"\n",
    "    }\n",
    "}\n",
    "\n",
    "for city, information_dict in cities.items():\n",
    "    print(city)\n",
    "    for information, value in information_dict.items():\n",
    "        print( information)"
   ]
  },
  {
   "cell_type": "code",
   "execution_count": null,
   "id": "8d821b04",
   "metadata": {},
   "outputs": [],
   "source": []
  }
 ],
 "metadata": {
  "kernelspec": {
   "display_name": "Python 3 (ipykernel)",
   "language": "python",
   "name": "python3"
  },
  "language_info": {
   "codemirror_mode": {
    "name": "ipython",
    "version": 3
   },
   "file_extension": ".py",
   "mimetype": "text/x-python",
   "name": "python",
   "nbconvert_exporter": "python",
   "pygments_lexer": "ipython3",
   "version": "3.9.12"
  }
 },
 "nbformat": 4,
 "nbformat_minor": 5
}
