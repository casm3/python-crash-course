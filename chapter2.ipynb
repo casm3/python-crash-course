{
 "cells": [
  {
   "cell_type": "markdown",
   "id": "8bfad745",
   "metadata": {},
   "source": [
    "### Write a program to accomplish each of these exercises. Save each program with a filename that follows standard Python conventions, using lowercase letters and underscores, such as _simple_message.py_ and _simple_messages.py_"
   ]
  },
  {
   "cell_type": "code",
   "execution_count": 1,
   "id": "f8a45f08",
   "metadata": {},
   "outputs": [
    {
     "name": "stdout",
     "output_type": "stream",
     "text": [
      "simple message\n"
     ]
    }
   ],
   "source": [
    "# 2.1 Simple Message: assign a message to a variable, and then print that message.\n",
    "message = \"simple message\"\n",
    "print(message)"
   ]
  },
  {
   "cell_type": "code",
   "execution_count": 2,
   "id": "704b7db5",
   "metadata": {},
   "outputs": [
    {
     "name": "stdout",
     "output_type": "stream",
     "text": [
      "original message\n",
      "new message\n"
     ]
    }
   ],
   "source": [
    "# 2.2 Simple Messages: Assign a message to a variable, and print that message. \n",
    "# Then change the value of the variable to a new message, and then print the new message\n",
    "original_message = \"original message\"\n",
    "print(original_message)\n",
    "changed_message = \"new message\"\n",
    "original_message = changed_message\n",
    "print(original_message)"
   ]
  },
  {
   "cell_type": "markdown",
   "id": "3636a54a",
   "metadata": {},
   "source": [
    "### Write a program to accomplish each of these exercises. Save each program with a name like _name_cases.py_."
   ]
  },
  {
   "cell_type": "code",
   "execution_count": 3,
   "id": "ed5a0daa",
   "metadata": {},
   "outputs": [
    {
     "name": "stdout",
     "output_type": "stream",
     "text": [
      "Enter your name: Carlos\n",
      "Hello Carlos, would you like to learn some Python today?\n"
     ]
    }
   ],
   "source": [
    "# 2.3 Personal Message: Use a variable to represent a person's name and print a message to that name. Your message\n",
    "# should be simple, such as, \"Hello Eric, would you like to learn some Python today?\"\n",
    "persons_name = input(\"Enter your name: \")\n",
    "print(f\"Hello {persons_name}, would you like to learn some Python today?\")"
   ]
  },
  {
   "cell_type": "code",
   "execution_count": 4,
   "id": "7b4fa56b",
   "metadata": {},
   "outputs": [
    {
     "name": "stdout",
     "output_type": "stream",
     "text": [
      "Enter your name: Carlos\n",
      "Uppercase: CARLOS Lowercase: carlos Title: Carlos\n"
     ]
    }
   ],
   "source": [
    "# 2.4 Name Cases: Use a variable to represent a person's name, and then print that person's name in lowercase,\n",
    "# uppercase, and title case.\n",
    "persons_name = input(\"Enter your name: \")\n",
    "uppercase = persons_name.upper()\n",
    "lowercase = persons_name.lower()\n",
    "titlecase = persons_name.title()\n",
    "\n",
    "print(\n",
    "    f\"Uppercase: {uppercase},\",\n",
    "    f\"Lowercase: {lowercase},\",\n",
    "    f\"Title: {titlecase},\"\n",
    ")"
   ]
  },
  {
   "cell_type": "code",
   "execution_count": 5,
   "id": "aff3b148",
   "metadata": {},
   "outputs": [
    {
     "name": "stdout",
     "output_type": "stream",
     "text": [
      "Enter the authors name: carlos\n",
      "Enter with the quote: bom dia\n",
      "Carlos once said, 'bom dia'\n"
     ]
    }
   ],
   "source": [
    "# 2.5 Famous Quote: find a quote from a famous  person you admire. Print the quote and the name of its author.\n",
    "# Your output should  look something like the following, including the quotation marks:\n",
    "# Albert Einstein once said, \"A person who never made a mistake never tried anything new.\"\n",
    "famous_author = input(\"Enter the authors name: \")\n",
    "quote = input(\"Enter with the quote: \")\n",
    "print(f\"{famous_author.title()} once said, '{quote}'\")"
   ]
  },
  {
   "cell_type": "code",
   "execution_count": 6,
   "id": "1ed7304e",
   "metadata": {},
   "outputs": [
    {
     "name": "stdout",
     "output_type": "stream",
     "text": [
      "Enter the authors name: Carlos\n",
      "Enter with the quote: bom dia\n",
      "Carlos once said, 'bom dia'\n"
     ]
    }
   ],
   "source": [
    "# 2.6 Famous quote 2: Repeat Exercise 2.5, but this time represent the famous person's name using a variable called\n",
    "# famous_person. Then compose your message and represent it with a new variable called message. Print your message.\n",
    "famous_author = input(\"Enter the authors name: \")\n",
    "quote = input(\"Enter with the quote: \")\n",
    "message = f\"{famous_author.title()} once said, '{quote}'\"\n",
    "print(message)"
   ]
  },
  {
   "cell_type": "code",
   "execution_count": 7,
   "id": "46245b9b",
   "metadata": {},
   "outputs": [
    {
     "name": "stdout",
     "output_type": "stream",
     "text": [
      "\tProfessor Xavier\n",
      "\n",
      "Professor Xavier\n",
      "\n",
      "\tProfessor Xavier\n",
      "Professor Xavier\n"
     ]
    }
   ],
   "source": [
    "# 2.7 Stripping Names: Use a variable to represent a person's name, and include some whitespace characters at the\n",
    "# beginning and end of the name. Make sure you use each character combination, '\\t' and '\\n', at least once.\n",
    "# print the name once, so the white space around the name using each of the three sripping functions, lstrip(),\n",
    "# rstrip(), and strip()\n",
    "name_to_strip = \"\\tProfessor Xavier\\n\"\n",
    "print(name_to_strip)\n",
    "lstripped_name = name_to_strip.lstrip()\n",
    "rstripped_name = name_to_strip.rstrip()\n",
    "stripped_name = name_to_strip.strip()\n",
    "print(lstripped_name)\n",
    "print(rstripped_name)\n",
    "print(stripped_name)"
   ]
  },
  {
   "cell_type": "code",
   "execution_count": 11,
   "id": "3d7e3e9c",
   "metadata": {},
   "outputs": [
    {
     "name": "stdout",
     "output_type": "stream",
     "text": [
      "8\n",
      "8\n",
      "8\n",
      "8\n"
     ]
    }
   ],
   "source": [
    "# 2.8 Number Eight: Write addition, subtraction, multiplication, and division operations that each result in the\n",
    "# the number 8. Be sure to enclose your operations in print() calls to see the results. You should create four \n",
    "# line that look like this.\n",
    "# ---------------\n",
    "# print(5+3)\n",
    "# ---------------\n",
    "# Your output should simply be four lines with the number 8 appearing once on each line.\n",
    "print(5+3)\n",
    "print(11-3)\n",
    "print(16//2)\n",
    "print(2**3)"
   ]
  },
  {
   "cell_type": "code",
   "execution_count": 12,
   "id": "91aad64e",
   "metadata": {},
   "outputs": [
    {
     "name": "stdout",
     "output_type": "stream",
     "text": [
      "my favorite number is 4\n"
     ]
    }
   ],
   "source": [
    "# 2.9 Favorite Number: Use a variable to represent your favorite number. Then, using that\n",
    "# variable, create a message that reveals your favorite number. Print that message.\n",
    "favorite_number = 4\n",
    "message = f\"my favorite number is {favorite_number}\"\n",
    "print(message)"
   ]
  },
  {
   "cell_type": "code",
   "execution_count": 13,
   "id": "9a347efa",
   "metadata": {},
   "outputs": [],
   "source": [
    "# 2.10 Adding comments: Choose two of the programs you've written, and add at least one comment to each.\n",
    "# If you don't have anything specific to write because your programs are too simple at this point, just\n",
    "# add your name and the current date at the top of each program file. Then write one sentence describing\n",
    "# what the program does."
   ]
  },
  {
   "cell_type": "code",
   "execution_count": 14,
   "id": "c9f8dc7c",
   "metadata": {},
   "outputs": [
    {
     "name": "stdout",
     "output_type": "stream",
     "text": [
      "The Zen of Python, by Tim Peters\n",
      "\n",
      "Beautiful is better than ugly.\n",
      "Explicit is better than implicit.\n",
      "Simple is better than complex.\n",
      "Complex is better than complicated.\n",
      "Flat is better than nested.\n",
      "Sparse is better than dense.\n",
      "Readability counts.\n",
      "Special cases aren't special enough to break the rules.\n",
      "Although practicality beats purity.\n",
      "Errors should never pass silently.\n",
      "Unless explicitly silenced.\n",
      "In the face of ambiguity, refuse the temptation to guess.\n",
      "There should be one-- and preferably only one --obvious way to do it.\n",
      "Although that way may not be obvious at first unless you're Dutch.\n",
      "Now is better than never.\n",
      "Although never is often better than *right* now.\n",
      "If the implementation is hard to explain, it's a bad idea.\n",
      "If the implementation is easy to explain, it may be a good idea.\n",
      "Namespaces are one honking great idea -- let's do more of those!\n"
     ]
    }
   ],
   "source": [
    "# 2.11 Zen of Python: Enter import this into a Python terminal session and skim through the additional principles.\n",
    "import this"
   ]
  },
  {
   "cell_type": "code",
   "execution_count": null,
   "id": "12c911c8",
   "metadata": {},
   "outputs": [],
   "source": []
  }
 ],
 "metadata": {
  "kernelspec": {
   "display_name": "Python 3 (ipykernel)",
   "language": "python",
   "name": "python3"
  },
  "language_info": {
   "codemirror_mode": {
    "name": "ipython",
    "version": 3
   },
   "file_extension": ".py",
   "mimetype": "text/x-python",
   "name": "python",
   "nbconvert_exporter": "python",
   "pygments_lexer": "ipython3",
   "version": "3.9.12"
  }
 },
 "nbformat": 4,
 "nbformat_minor": 5
}
